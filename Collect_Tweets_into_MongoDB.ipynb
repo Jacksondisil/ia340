{
 "cells": [
  {
   "cell_type": "markdown",
   "metadata": {},
   "source": [
    "# Collect Tweets into MongoDB"
   ]
  },
  {
   "cell_type": "markdown",
   "metadata": {},
   "source": [
    "## Install Python libraries\n",
    "\n",
    "You may need to restart your Jupyter Notebook instance after installed those libraries."
   ]
  },
  {
   "cell_type": "code",
   "execution_count": 7,
   "metadata": {
    "scrolled": true
   },
   "outputs": [
    {
     "name": "stdout",
     "output_type": "stream",
     "text": [
      "Requirement already satisfied: pymongo in /home/ec2-user/anaconda3/envs/python3/lib/python3.6/site-packages (4.0)\n",
      "\u001b[33mWARNING: You are using pip version 21.2.4; however, version 21.3.1 is available.\n",
      "You should consider upgrading via the '/home/ec2-user/anaconda3/envs/python3/bin/python -m pip install --upgrade pip' command.\u001b[0m\n"
     ]
    }
   ],
   "source": [
    "!pip install pymongo"
   ]
  },
  {
   "cell_type": "code",
   "execution_count": 8,
   "metadata": {},
   "outputs": [
    {
     "name": "stdout",
     "output_type": "stream",
     "text": [
      "Requirement already satisfied: pymongo[srv] in /home/ec2-user/anaconda3/envs/python3/lib/python3.6/site-packages (4.0)\n",
      "Requirement already satisfied: dnspython<3.0.0,>=1.16.0 in /home/ec2-user/anaconda3/envs/python3/lib/python3.6/site-packages (from pymongo[srv]) (2.1.0)\n",
      "\u001b[33mWARNING: You are using pip version 21.2.4; however, version 21.3.1 is available.\n",
      "You should consider upgrading via the '/home/ec2-user/anaconda3/envs/python3/bin/python -m pip install --upgrade pip' command.\u001b[0m\n"
     ]
    }
   ],
   "source": [
    "!pip install pymongo[srv]"
   ]
  },
  {
   "cell_type": "code",
   "execution_count": 9,
   "metadata": {},
   "outputs": [
    {
     "name": "stdout",
     "output_type": "stream",
     "text": [
      "Requirement already satisfied: dnspython in /home/ec2-user/anaconda3/envs/python3/lib/python3.6/site-packages (2.1.0)\n",
      "\u001b[33mWARNING: You are using pip version 21.2.4; however, version 21.3.1 is available.\n",
      "You should consider upgrading via the '/home/ec2-user/anaconda3/envs/python3/bin/python -m pip install --upgrade pip' command.\u001b[0m\n"
     ]
    }
   ],
   "source": [
    "!pip install dnspython"
   ]
  },
  {
   "cell_type": "code",
   "execution_count": 10,
   "metadata": {
    "scrolled": true
   },
   "outputs": [
    {
     "name": "stdout",
     "output_type": "stream",
     "text": [
      "Collecting tweepy\n",
      "  Using cached tweepy-4.4.0-py2.py3-none-any.whl (65 kB)\n",
      "Requirement already satisfied: requests<3,>=2.11.1 in /home/ec2-user/anaconda3/envs/python3/lib/python3.6/site-packages (from tweepy) (2.26.0)\n",
      "Collecting requests-oauthlib<2,>=1.0.0\n",
      "  Using cached requests_oauthlib-1.3.0-py2.py3-none-any.whl (23 kB)\n",
      "Requirement already satisfied: urllib3<1.27,>=1.21.1 in /home/ec2-user/anaconda3/envs/python3/lib/python3.6/site-packages (from requests<3,>=2.11.1->tweepy) (1.26.7)\n",
      "Requirement already satisfied: idna<4,>=2.5 in /home/ec2-user/anaconda3/envs/python3/lib/python3.6/site-packages (from requests<3,>=2.11.1->tweepy) (3.3)\n",
      "Requirement already satisfied: charset-normalizer~=2.0.0 in /home/ec2-user/anaconda3/envs/python3/lib/python3.6/site-packages (from requests<3,>=2.11.1->tweepy) (2.0.7)\n",
      "Requirement already satisfied: certifi>=2017.4.17 in /home/ec2-user/anaconda3/envs/python3/lib/python3.6/site-packages (from requests<3,>=2.11.1->tweepy) (2021.10.8)\n",
      "Collecting oauthlib>=3.0.0\n",
      "  Using cached oauthlib-3.1.1-py2.py3-none-any.whl (146 kB)\n",
      "Installing collected packages: oauthlib, requests-oauthlib, tweepy\n",
      "Successfully installed oauthlib-3.1.1 requests-oauthlib-1.3.0 tweepy-4.4.0\n",
      "\u001b[33mWARNING: You are using pip version 21.2.4; however, version 21.3.1 is available.\n",
      "You should consider upgrading via the '/home/ec2-user/anaconda3/envs/python3/bin/python -m pip install --upgrade pip' command.\u001b[0m\n"
     ]
    }
   ],
   "source": [
    "!pip install tweepy"
   ]
  },
  {
   "cell_type": "code",
   "execution_count": 11,
   "metadata": {
    "scrolled": true
   },
   "outputs": [
    {
     "name": "stdout",
     "output_type": "stream",
     "text": [
      "Requirement already satisfied: twitter in /home/ec2-user/anaconda3/envs/python3/lib/python3.6/site-packages (1.19.3)\n",
      "\u001b[33mWARNING: You are using pip version 21.2.4; however, version 21.3.1 is available.\n",
      "You should consider upgrading via the '/home/ec2-user/anaconda3/envs/python3/bin/python -m pip install --upgrade pip' command.\u001b[0m\n"
     ]
    }
   ],
   "source": [
    "!pip install twitter"
   ]
  },
  {
   "cell_type": "markdown",
   "metadata": {},
   "source": [
    "## Import Python libraries"
   ]
  },
  {
   "cell_type": "code",
   "execution_count": 12,
   "metadata": {},
   "outputs": [],
   "source": [
    "import pymongo\n",
    "from pymongo import MongoClient\n",
    "import json\n",
    "import tweepy\n",
    "import twitter\n",
    "from pprint import pprint\n",
    "import configparser\n",
    "import pandas as pd"
   ]
  },
  {
   "cell_type": "markdown",
   "metadata": {},
   "source": [
    "##  Load the Authorization Info"
   ]
  },
  {
   "cell_type": "markdown",
   "metadata": {},
   "source": [
    "Save database connection info and API Keys in a config.ini file and use the configparse to load the authorization info. "
   ]
  },
  {
   "cell_type": "code",
   "execution_count": 13,
   "metadata": {},
   "outputs": [],
   "source": [
    "config = configparser.ConfigParser()\n",
    "config.read('config.ini')\n",
    "\n",
    "CONSUMER_KEY      = config['mytwitter']['api_key']\n",
    "CONSUMER_SECRET   = config['mytwitter']['api_secrete']\n",
    "OAUTH_TOKEN       = config['mytwitter']['access_token']\n",
    "OATH_TOKEN_SECRET = config['mytwitter']['access_secrete']\n",
    "\n",
    "mongod_connect = config['mymongo']['connection']"
   ]
  },
  {
   "cell_type": "markdown",
   "metadata": {},
   "source": [
    "## Connect to the MongoDB Cluster"
   ]
  },
  {
   "cell_type": "code",
   "execution_count": 25,
   "metadata": {},
   "outputs": [
    {
     "data": {
      "text/plain": [
       "'id_1'"
      ]
     },
     "execution_count": 25,
     "metadata": {},
     "output_type": "execute_result"
    }
   ],
   "source": [
    "client = MongoClient(mongod_connect)\n",
    "db = client.demo # use or create a database named demo\n",
    "tweet_collection = db.final_project #use or create a collection named tweet_collection\n",
    "tweet_collection.create_index([(\"id\", pymongo.ASCENDING)],unique = True) # make sure the collected tweets are unique"
   ]
  },
  {
   "cell_type": "markdown",
   "metadata": {},
   "source": [
    "## Use the Streaming API to Collect Tweets"
   ]
  },
  {
   "cell_type": "markdown",
   "metadata": {},
   "source": [
    "Authorize the Stream API "
   ]
  },
  {
   "cell_type": "code",
   "execution_count": null,
   "metadata": {},
   "outputs": [],
   "source": [
    "stream_auth = tweepy.OAuthHandler(CONSUMER_KEY, CONSUMER_SECRET)\n",
    "stream_auth.set_access_token(OAUTH_TOKEN, OATH_TOKEN_SECRET)\n",
    "\n",
    "strem_api = tweepy.API(stream_auth)"
   ]
  },
  {
   "cell_type": "markdown",
   "metadata": {},
   "source": [
    "Define the query for the Stream API"
   ]
  },
  {
   "cell_type": "code",
   "execution_count": 5,
   "metadata": {},
   "outputs": [],
   "source": [
    "track = ['election'] # define the keywords, tweets contain election\n",
    "\n",
    "locations = [-78.9326449,38.4150904,-78.8816972,38.4450731] #defin the location, in Harrisonburg, VA"
   ]
  },
  {
   "cell_type": "markdown",
   "metadata": {},
   "source": [
    "The collected tweets will contain 'election' <span style=\"color:red;font-weight:bold\"> OR </span> are located in Harrisonburg, VA"
   ]
  },
  {
   "cell_type": "code",
   "execution_count": null,
   "metadata": {
    "scrolled": true
   },
   "outputs": [],
   "source": [
    "class MyStreamListener(tweepy.StreamListener):\n",
    "    def on_status(self, status):\n",
    "        print (status.id_str)\n",
    "        try:\n",
    "            tweet_collection.insert_one(status._json)\n",
    "        except:\n",
    "            pass\n",
    "  \n",
    "    def on_error(self, status_code):\n",
    "        if status_code == 420:\n",
    "            #returning False in on_data disconnects the stream\n",
    "            return False\n",
    "myStreamListener = MyStreamListener()\n",
    "myStream = tweepy.Stream(auth = strem_api.auth, listener=myStreamListener)\n",
    "myStream.filter(track=track)#  (locations = locations)   #Use either track or locations"
   ]
  },
  {
   "cell_type": "markdown",
   "metadata": {},
   "source": [
    "## Use the REST API to Collect Tweets"
   ]
  },
  {
   "cell_type": "markdown",
   "metadata": {},
   "source": [
    "Authorize the REST API "
   ]
  },
  {
   "cell_type": "code",
   "execution_count": 26,
   "metadata": {},
   "outputs": [],
   "source": [
    "rest_auth = twitter.oauth.OAuth(OAUTH_TOKEN,OATH_TOKEN_SECRET,CONSUMER_KEY,CONSUMER_SECRET)\n",
    "rest_api = twitter.Twitter(auth=rest_auth)"
   ]
  },
  {
   "cell_type": "markdown",
   "metadata": {},
   "source": [
    "Define the query for the REST API"
   ]
  },
  {
   "cell_type": "code",
   "execution_count": 35,
   "metadata": {},
   "outputs": [],
   "source": [
    "count = 100 #number of returned tweets, default and max is 100\n",
    "geocode = \"41.5810317,-93.7435034,200mi\"  # defin the location, in Harrisonburg, VA\n",
    "q = \"COVID\"                               #define the keywords, tweets contain election"
   ]
  },
  {
   "cell_type": "markdown",
   "metadata": {},
   "source": [
    "The collected tweets will contain 'election' <span style=\"color:red;font-weight:bold\"> AND </span> are located in Harrisonburg, VA"
   ]
  },
  {
   "cell_type": "code",
   "execution_count": 36,
   "metadata": {},
   "outputs": [
    {
     "name": "stdout",
     "output_type": "stream",
     "text": [
      "'Wed Dec 01 21:28:47 +0000 2021'\n",
      "'Wed Dec 01 21:28:27 +0000 2021'\n",
      "'Wed Dec 01 21:28:14 +0000 2021'\n",
      "'Wed Dec 01 21:28:12 +0000 2021'\n",
      "'Wed Dec 01 21:27:45 +0000 2021'\n",
      "'Wed Dec 01 21:25:58 +0000 2021'\n",
      "'Wed Dec 01 21:25:46 +0000 2021'\n",
      "'Wed Dec 01 21:24:24 +0000 2021'\n",
      "'Wed Dec 01 21:24:24 +0000 2021'\n",
      "'Wed Dec 01 21:24:04 +0000 2021'\n",
      "'Wed Dec 01 21:24:02 +0000 2021'\n",
      "'Wed Dec 01 21:23:27 +0000 2021'\n",
      "'Wed Dec 01 21:21:03 +0000 2021'\n",
      "'Wed Dec 01 21:20:08 +0000 2021'\n",
      "'Wed Dec 01 21:19:44 +0000 2021'\n",
      "'Wed Dec 01 21:19:11 +0000 2021'\n",
      "'Wed Dec 01 21:19:04 +0000 2021'\n",
      "'Wed Dec 01 21:18:56 +0000 2021'\n",
      "'Wed Dec 01 21:16:41 +0000 2021'\n",
      "'Wed Dec 01 21:15:09 +0000 2021'\n",
      "'Wed Dec 01 21:14:31 +0000 2021'\n",
      "'Wed Dec 01 21:14:04 +0000 2021'\n",
      "'Wed Dec 01 21:12:53 +0000 2021'\n",
      "'Wed Dec 01 21:12:45 +0000 2021'\n",
      "'Wed Dec 01 21:12:29 +0000 2021'\n",
      "'Wed Dec 01 21:12:15 +0000 2021'\n",
      "'Wed Dec 01 21:12:13 +0000 2021'\n",
      "'Wed Dec 01 21:11:04 +0000 2021'\n",
      "'Wed Dec 01 21:11:01 +0000 2021'\n",
      "'Wed Dec 01 21:09:42 +0000 2021'\n",
      "'Wed Dec 01 21:09:41 +0000 2021'\n",
      "'Wed Dec 01 21:08:42 +0000 2021'\n",
      "'Wed Dec 01 21:08:04 +0000 2021'\n",
      "'Wed Dec 01 21:07:01 +0000 2021'\n",
      "'Wed Dec 01 21:06:43 +0000 2021'\n",
      "'Wed Dec 01 21:06:43 +0000 2021'\n",
      "'Wed Dec 01 21:06:07 +0000 2021'\n",
      "'Wed Dec 01 21:06:04 +0000 2021'\n",
      "'Wed Dec 01 21:05:08 +0000 2021'\n",
      "'Wed Dec 01 21:04:49 +0000 2021'\n",
      "'Wed Dec 01 21:04:38 +0000 2021'\n",
      "'Wed Dec 01 21:04:20 +0000 2021'\n",
      "'Wed Dec 01 21:04:10 +0000 2021'\n",
      "'Wed Dec 01 21:03:55 +0000 2021'\n",
      "'Wed Dec 01 21:03:39 +0000 2021'\n",
      "'Wed Dec 01 21:02:42 +0000 2021'\n",
      "'Wed Dec 01 21:02:04 +0000 2021'\n",
      "'Wed Dec 01 21:01:40 +0000 2021'\n",
      "'Wed Dec 01 21:01:07 +0000 2021'\n",
      "'Wed Dec 01 21:00:39 +0000 2021'\n",
      "'Wed Dec 01 21:00:29 +0000 2021'\n",
      "'Wed Dec 01 21:00:22 +0000 2021'\n",
      "'Wed Dec 01 21:00:01 +0000 2021'\n",
      "'Wed Dec 01 21:00:01 +0000 2021'\n",
      "'Wed Dec 01 20:59:37 +0000 2021'\n",
      "'Wed Dec 01 20:58:59 +0000 2021'\n",
      "'Wed Dec 01 20:57:44 +0000 2021'\n",
      "'Wed Dec 01 20:57:36 +0000 2021'\n",
      "'Wed Dec 01 20:57:10 +0000 2021'\n",
      "'Wed Dec 01 20:56:11 +0000 2021'\n",
      "'Wed Dec 01 20:55:39 +0000 2021'\n",
      "'Wed Dec 01 20:54:05 +0000 2021'\n",
      "'Wed Dec 01 20:53:26 +0000 2021'\n",
      "'Wed Dec 01 20:51:21 +0000 2021'\n",
      "'Wed Dec 01 20:51:16 +0000 2021'\n",
      "'Wed Dec 01 20:48:49 +0000 2021'\n",
      "'Wed Dec 01 20:48:38 +0000 2021'\n",
      "'Wed Dec 01 20:48:24 +0000 2021'\n",
      "'Wed Dec 01 20:47:21 +0000 2021'\n",
      "'Wed Dec 01 20:47:08 +0000 2021'\n",
      "'Wed Dec 01 20:47:06 +0000 2021'\n",
      "'Wed Dec 01 20:46:15 +0000 2021'\n",
      "'Wed Dec 01 20:45:46 +0000 2021'\n",
      "'Wed Dec 01 20:44:59 +0000 2021'\n",
      "'Wed Dec 01 20:44:05 +0000 2021'\n",
      "'Wed Dec 01 20:42:57 +0000 2021'\n",
      "'Wed Dec 01 20:42:19 +0000 2021'\n",
      "'Wed Dec 01 20:41:54 +0000 2021'\n",
      "'Wed Dec 01 20:41:05 +0000 2021'\n",
      "'Wed Dec 01 20:39:59 +0000 2021'\n",
      "'Wed Dec 01 20:38:14 +0000 2021'\n",
      "'Wed Dec 01 20:36:52 +0000 2021'\n",
      "'Wed Dec 01 20:36:14 +0000 2021'\n",
      "'Wed Dec 01 20:35:47 +0000 2021'\n",
      "'Wed Dec 01 20:35:15 +0000 2021'\n",
      "'Wed Dec 01 20:35:04 +0000 2021'\n",
      "'Wed Dec 01 20:33:55 +0000 2021'\n",
      "'Wed Dec 01 20:33:27 +0000 2021'\n",
      "'Wed Dec 01 20:33:16 +0000 2021'\n",
      "'Wed Dec 01 20:33:04 +0000 2021'\n",
      "'Wed Dec 01 20:31:38 +0000 2021'\n",
      "'Wed Dec 01 20:30:09 +0000 2021'\n",
      "'Wed Dec 01 20:28:25 +0000 2021'\n",
      "'Wed Dec 01 20:28:15 +0000 2021'\n",
      "'Wed Dec 01 20:27:39 +0000 2021'\n",
      "'Wed Dec 01 20:26:46 +0000 2021'\n",
      "'Wed Dec 01 20:25:55 +0000 2021'\n"
     ]
    }
   ],
   "source": [
    "search_results = rest_api.search.tweets( count=count,q=q, geocode=geocode) #you can use both q and geocode\n",
    "statuses = search_results[\"statuses\"]\n",
    "since_id_new = statuses[-1]['id']\n",
    "for statuse in statuses:\n",
    "    try:\n",
    "        tweet_collection.insert_one(statuse)\n",
    "        pprint(statuse['created_at'])# print the date of the collected tweets\n",
    "    except:\n",
    "        pass"
   ]
  },
  {
   "cell_type": "markdown",
   "metadata": {},
   "source": [
    "Continue fetching early tweets with the same query. \n",
    "<p><span style=\"color:red;font-weight:bold\">YOU WILL REACH YOUR RATE LIMIT VERY FAST</span></p>"
   ]
  },
  {
   "cell_type": "code",
   "execution_count": 38,
   "metadata": {
    "scrolled": false
   },
   "outputs": [
    {
     "name": "stdout",
     "output_type": "stream",
     "text": [
      "'Mon Nov 29 16:44:40 +0000 2021'\n",
      "'Mon Nov 29 16:44:13 +0000 2021'\n",
      "'Mon Nov 29 16:44:00 +0000 2021'\n",
      "'Mon Nov 29 16:43:26 +0000 2021'\n",
      "'Mon Nov 29 16:43:05 +0000 2021'\n",
      "'Mon Nov 29 16:40:58 +0000 2021'\n",
      "'Mon Nov 29 16:36:21 +0000 2021'\n",
      "'Mon Nov 29 16:35:24 +0000 2021'\n",
      "'Mon Nov 29 16:30:55 +0000 2021'\n",
      "'Mon Nov 29 16:30:36 +0000 2021'\n",
      "'Mon Nov 29 16:30:00 +0000 2021'\n",
      "'Mon Nov 29 16:29:52 +0000 2021'\n",
      "'Mon Nov 29 16:29:30 +0000 2021'\n",
      "'Mon Nov 29 16:29:24 +0000 2021'\n",
      "'Mon Nov 29 16:28:29 +0000 2021'\n",
      "'Mon Nov 29 16:28:12 +0000 2021'\n",
      "'Mon Nov 29 16:26:56 +0000 2021'\n",
      "'Mon Nov 29 16:25:57 +0000 2021'\n",
      "'Mon Nov 29 16:25:37 +0000 2021'\n",
      "'Mon Nov 29 16:25:20 +0000 2021'\n",
      "'Mon Nov 29 16:24:30 +0000 2021'\n",
      "'Mon Nov 29 16:24:29 +0000 2021'\n",
      "'Mon Nov 29 16:24:27 +0000 2021'\n",
      "'Mon Nov 29 16:22:48 +0000 2021'\n",
      "'Mon Nov 29 16:21:50 +0000 2021'\n",
      "'Mon Nov 29 16:20:01 +0000 2021'\n",
      "'Mon Nov 29 16:19:55 +0000 2021'\n",
      "'Mon Nov 29 16:19:54 +0000 2021'\n",
      "'Mon Nov 29 16:19:42 +0000 2021'\n",
      "'Mon Nov 29 16:19:32 +0000 2021'\n",
      "'Mon Nov 29 16:19:25 +0000 2021'\n",
      "'Mon Nov 29 16:18:10 +0000 2021'\n",
      "'Mon Nov 29 16:17:52 +0000 2021'\n",
      "'Mon Nov 29 16:17:37 +0000 2021'\n",
      "'Mon Nov 29 16:12:30 +0000 2021'\n",
      "'Mon Nov 29 16:11:25 +0000 2021'\n",
      "'Mon Nov 29 16:09:44 +0000 2021'\n",
      "'Mon Nov 29 16:09:25 +0000 2021'\n",
      "'Mon Nov 29 16:09:12 +0000 2021'\n",
      "'Mon Nov 29 16:09:00 +0000 2021'\n",
      "'Mon Nov 29 16:08:55 +0000 2021'\n",
      "'Mon Nov 29 16:08:43 +0000 2021'\n",
      "'Mon Nov 29 16:07:57 +0000 2021'\n",
      "'Mon Nov 29 16:06:10 +0000 2021'\n",
      "'Mon Nov 29 16:06:03 +0000 2021'\n",
      "'Mon Nov 29 16:04:16 +0000 2021'\n",
      "'Mon Nov 29 16:03:00 +0000 2021'\n",
      "'Mon Nov 29 16:02:35 +0000 2021'\n",
      "'Mon Nov 29 16:02:04 +0000 2021'\n",
      "'Mon Nov 29 16:00:27 +0000 2021'\n",
      "'Mon Nov 29 16:00:07 +0000 2021'\n",
      "'Mon Nov 29 16:00:02 +0000 2021'\n",
      "'Mon Nov 29 15:59:42 +0000 2021'\n",
      "'Mon Nov 29 15:58:56 +0000 2021'\n",
      "'Mon Nov 29 15:58:52 +0000 2021'\n",
      "'Mon Nov 29 15:58:26 +0000 2021'\n",
      "'Mon Nov 29 15:56:21 +0000 2021'\n",
      "'Mon Nov 29 15:56:07 +0000 2021'\n",
      "'Mon Nov 29 15:56:04 +0000 2021'\n",
      "'Mon Nov 29 15:55:51 +0000 2021'\n",
      "'Mon Nov 29 15:55:01 +0000 2021'\n",
      "'Mon Nov 29 15:54:56 +0000 2021'\n",
      "'Mon Nov 29 15:54:14 +0000 2021'\n",
      "'Mon Nov 29 15:54:04 +0000 2021'\n",
      "'Mon Nov 29 15:54:03 +0000 2021'\n",
      "'Mon Nov 29 15:53:54 +0000 2021'\n",
      "'Mon Nov 29 15:53:36 +0000 2021'\n",
      "'Mon Nov 29 15:52:33 +0000 2021'\n",
      "'Mon Nov 29 15:48:48 +0000 2021'\n",
      "'Mon Nov 29 15:48:35 +0000 2021'\n",
      "'Mon Nov 29 15:48:33 +0000 2021'\n",
      "'Mon Nov 29 15:48:28 +0000 2021'\n",
      "'Mon Nov 29 15:48:27 +0000 2021'\n",
      "'Mon Nov 29 15:47:14 +0000 2021'\n",
      "'Mon Nov 29 15:45:10 +0000 2021'\n",
      "'Mon Nov 29 15:45:00 +0000 2021'\n",
      "'Mon Nov 29 15:44:53 +0000 2021'\n",
      "'Mon Nov 29 15:42:41 +0000 2021'\n",
      "'Mon Nov 29 15:40:03 +0000 2021'\n",
      "'Mon Nov 29 15:38:27 +0000 2021'\n",
      "'Mon Nov 29 15:37:57 +0000 2021'\n",
      "'Mon Nov 29 15:34:06 +0000 2021'\n",
      "'Mon Nov 29 15:34:04 +0000 2021'\n",
      "'Mon Nov 29 15:31:38 +0000 2021'\n",
      "'Mon Nov 29 15:31:03 +0000 2021'\n",
      "'Mon Nov 29 15:30:52 +0000 2021'\n",
      "'Mon Nov 29 15:30:30 +0000 2021'\n",
      "'Mon Nov 29 15:30:26 +0000 2021'\n",
      "'Mon Nov 29 15:30:11 +0000 2021'\n",
      "'Mon Nov 29 15:30:11 +0000 2021'\n",
      "'Mon Nov 29 15:29:45 +0000 2021'\n",
      "'Mon Nov 29 15:27:16 +0000 2021'\n",
      "'Mon Nov 29 15:27:04 +0000 2021'\n",
      "'Mon Nov 29 15:26:14 +0000 2021'\n",
      "'Mon Nov 29 15:25:10 +0000 2021'\n",
      "'Mon Nov 29 15:24:22 +0000 2021'\n",
      "'Mon Nov 29 15:23:02 +0000 2021'\n",
      "'Mon Nov 29 15:22:33 +0000 2021'\n",
      "'Mon Nov 29 15:21:10 +0000 2021'\n",
      "'Mon Nov 29 15:18:33 +0000 2021'\n",
      "'Mon Nov 29 15:16:32 +0000 2021'\n",
      "'Mon Nov 29 15:15:13 +0000 2021'\n",
      "'Mon Nov 29 15:13:49 +0000 2021'\n",
      "'Mon Nov 29 15:13:44 +0000 2021'\n",
      "'Mon Nov 29 15:13:04 +0000 2021'\n",
      "'Mon Nov 29 15:13:04 +0000 2021'\n",
      "'Mon Nov 29 15:13:04 +0000 2021'\n",
      "'Mon Nov 29 15:10:29 +0000 2021'\n",
      "'Mon Nov 29 15:10:02 +0000 2021'\n",
      "'Mon Nov 29 15:09:42 +0000 2021'\n",
      "'Mon Nov 29 15:09:15 +0000 2021'\n",
      "'Mon Nov 29 15:08:51 +0000 2021'\n",
      "'Mon Nov 29 15:08:15 +0000 2021'\n",
      "'Mon Nov 29 15:08:04 +0000 2021'\n",
      "'Mon Nov 29 15:06:55 +0000 2021'\n",
      "'Mon Nov 29 15:06:42 +0000 2021'\n",
      "'Mon Nov 29 15:06:36 +0000 2021'\n",
      "'Mon Nov 29 15:05:06 +0000 2021'\n",
      "'Mon Nov 29 15:03:51 +0000 2021'\n",
      "'Mon Nov 29 15:02:24 +0000 2021'\n",
      "'Mon Nov 29 15:02:05 +0000 2021'\n",
      "'Mon Nov 29 15:02:00 +0000 2021'\n",
      "'Mon Nov 29 15:01:08 +0000 2021'\n",
      "'Mon Nov 29 15:00:12 +0000 2021'\n",
      "'Mon Nov 29 15:00:01 +0000 2021'\n",
      "'Mon Nov 29 14:58:05 +0000 2021'\n",
      "'Mon Nov 29 14:55:08 +0000 2021'\n",
      "'Mon Nov 29 14:54:38 +0000 2021'\n",
      "'Mon Nov 29 14:54:23 +0000 2021'\n",
      "'Mon Nov 29 14:53:56 +0000 2021'\n",
      "'Mon Nov 29 14:52:50 +0000 2021'\n",
      "'Mon Nov 29 14:51:08 +0000 2021'\n",
      "'Mon Nov 29 14:46:49 +0000 2021'\n",
      "'Mon Nov 29 14:46:06 +0000 2021'\n",
      "'Mon Nov 29 14:43:59 +0000 2021'\n",
      "'Mon Nov 29 14:43:24 +0000 2021'\n",
      "'Mon Nov 29 14:40:57 +0000 2021'\n",
      "'Mon Nov 29 14:40:15 +0000 2021'\n",
      "'Mon Nov 29 14:39:45 +0000 2021'\n",
      "'Mon Nov 29 14:37:29 +0000 2021'\n",
      "'Mon Nov 29 14:37:13 +0000 2021'\n",
      "'Mon Nov 29 14:35:19 +0000 2021'\n",
      "'Mon Nov 29 14:33:30 +0000 2021'\n",
      "'Mon Nov 29 14:32:04 +0000 2021'\n",
      "'Mon Nov 29 14:31:36 +0000 2021'\n",
      "'Mon Nov 29 14:31:04 +0000 2021'\n",
      "'Mon Nov 29 14:30:22 +0000 2021'\n",
      "'Mon Nov 29 14:30:01 +0000 2021'\n",
      "'Mon Nov 29 14:30:00 +0000 2021'\n",
      "'Mon Nov 29 14:28:45 +0000 2021'\n",
      "'Mon Nov 29 14:28:25 +0000 2021'\n",
      "'Mon Nov 29 14:27:52 +0000 2021'\n",
      "'Mon Nov 29 14:26:36 +0000 2021'\n",
      "'Mon Nov 29 14:26:33 +0000 2021'\n",
      "'Mon Nov 29 14:25:08 +0000 2021'\n",
      "'Mon Nov 29 14:24:38 +0000 2021'\n",
      "'Mon Nov 29 14:24:24 +0000 2021'\n",
      "'Mon Nov 29 14:24:23 +0000 2021'\n",
      "'Mon Nov 29 14:24:23 +0000 2021'\n",
      "'Mon Nov 29 14:23:54 +0000 2021'\n",
      "'Mon Nov 29 14:23:22 +0000 2021'\n",
      "'Mon Nov 29 14:18:25 +0000 2021'\n",
      "'Mon Nov 29 14:17:19 +0000 2021'\n",
      "'Mon Nov 29 14:17:01 +0000 2021'\n",
      "'Mon Nov 29 14:17:00 +0000 2021'\n",
      "'Mon Nov 29 14:16:56 +0000 2021'\n",
      "'Mon Nov 29 14:16:04 +0000 2021'\n",
      "'Mon Nov 29 14:12:29 +0000 2021'\n",
      "'Mon Nov 29 14:09:02 +0000 2021'\n",
      "'Mon Nov 29 14:07:02 +0000 2021'\n",
      "'Mon Nov 29 14:06:49 +0000 2021'\n",
      "'Mon Nov 29 14:06:20 +0000 2021'\n",
      "'Mon Nov 29 14:03:39 +0000 2021'\n",
      "'Mon Nov 29 14:03:37 +0000 2021'\n",
      "'Mon Nov 29 14:03:24 +0000 2021'\n",
      "'Mon Nov 29 14:00:33 +0000 2021'\n",
      "'Mon Nov 29 14:00:01 +0000 2021'\n",
      "'Mon Nov 29 14:00:00 +0000 2021'\n",
      "'Mon Nov 29 13:58:51 +0000 2021'\n",
      "'Mon Nov 29 13:57:04 +0000 2021'\n",
      "'Mon Nov 29 13:56:55 +0000 2021'\n",
      "'Mon Nov 29 13:56:31 +0000 2021'\n",
      "'Mon Nov 29 13:55:20 +0000 2021'\n",
      "'Mon Nov 29 13:54:47 +0000 2021'\n",
      "'Mon Nov 29 13:53:04 +0000 2021'\n",
      "'Mon Nov 29 13:52:16 +0000 2021'\n",
      "'Mon Nov 29 13:51:46 +0000 2021'\n",
      "'Mon Nov 29 13:51:04 +0000 2021'\n",
      "'Mon Nov 29 13:50:56 +0000 2021'\n",
      "'Mon Nov 29 13:49:35 +0000 2021'\n",
      "'Mon Nov 29 13:49:26 +0000 2021'\n",
      "'Mon Nov 29 13:47:47 +0000 2021'\n",
      "'Mon Nov 29 13:45:52 +0000 2021'\n",
      "'Mon Nov 29 13:45:05 +0000 2021'\n",
      "'Mon Nov 29 13:44:08 +0000 2021'\n",
      "'Mon Nov 29 13:43:52 +0000 2021'\n",
      "'Mon Nov 29 13:43:09 +0000 2021'\n",
      "'Mon Nov 29 13:39:08 +0000 2021'\n",
      "'Mon Nov 29 13:39:03 +0000 2021'\n",
      "'Mon Nov 29 13:35:22 +0000 2021'\n",
      "'Mon Nov 29 13:35:01 +0000 2021'\n",
      "'Mon Nov 29 13:34:37 +0000 2021'\n",
      "'Mon Nov 29 13:31:04 +0000 2021'\n",
      "'Mon Nov 29 13:30:00 +0000 2021'\n",
      "'Mon Nov 29 13:26:22 +0000 2021'\n",
      "'Mon Nov 29 13:21:07 +0000 2021'\n",
      "'Mon Nov 29 13:20:05 +0000 2021'\n",
      "'Mon Nov 29 13:19:28 +0000 2021'\n",
      "'Mon Nov 29 13:19:02 +0000 2021'\n",
      "'Mon Nov 29 13:18:55 +0000 2021'\n",
      "'Mon Nov 29 13:18:06 +0000 2021'\n",
      "'Mon Nov 29 13:15:27 +0000 2021'\n",
      "'Mon Nov 29 13:15:06 +0000 2021'\n",
      "'Mon Nov 29 13:10:54 +0000 2021'\n",
      "'Mon Nov 29 13:10:05 +0000 2021'\n",
      "'Mon Nov 29 13:09:12 +0000 2021'\n",
      "'Mon Nov 29 13:07:04 +0000 2021'\n",
      "'Mon Nov 29 13:04:48 +0000 2021'\n",
      "'Mon Nov 29 13:02:04 +0000 2021'\n",
      "'Mon Nov 29 13:01:00 +0000 2021'\n",
      "'Mon Nov 29 13:01:00 +0000 2021'\n",
      "'Mon Nov 29 13:00:29 +0000 2021'\n",
      "'Mon Nov 29 12:58:56 +0000 2021'\n",
      "'Mon Nov 29 12:57:01 +0000 2021'\n",
      "'Mon Nov 29 12:55:02 +0000 2021'\n",
      "'Mon Nov 29 12:52:47 +0000 2021'\n",
      "'Mon Nov 29 12:52:20 +0000 2021'\n",
      "'Mon Nov 29 12:51:03 +0000 2021'\n",
      "'Mon Nov 29 12:49:33 +0000 2021'\n",
      "'Mon Nov 29 12:42:27 +0000 2021'\n",
      "'Mon Nov 29 12:40:52 +0000 2021'\n",
      "'Mon Nov 29 12:39:47 +0000 2021'\n",
      "'Mon Nov 29 12:39:30 +0000 2021'\n",
      "'Mon Nov 29 12:38:22 +0000 2021'\n",
      "'Mon Nov 29 12:36:48 +0000 2021'\n",
      "'Mon Nov 29 12:34:35 +0000 2021'\n",
      "'Mon Nov 29 12:33:31 +0000 2021'\n",
      "'Mon Nov 29 12:29:40 +0000 2021'\n",
      "'Mon Nov 29 12:26:31 +0000 2021'\n",
      "'Mon Nov 29 12:24:24 +0000 2021'\n",
      "'Mon Nov 29 12:23:00 +0000 2021'\n",
      "'Mon Nov 29 12:13:32 +0000 2021'\n",
      "'Mon Nov 29 12:12:37 +0000 2021'\n",
      "'Mon Nov 29 12:08:57 +0000 2021'\n",
      "'Mon Nov 29 12:06:29 +0000 2021'\n",
      "'Mon Nov 29 12:05:40 +0000 2021'\n",
      "'Mon Nov 29 12:02:53 +0000 2021'\n",
      "'Mon Nov 29 12:00:45 +0000 2021'\n",
      "'Mon Nov 29 12:00:12 +0000 2021'\n",
      "'Mon Nov 29 11:54:22 +0000 2021'\n",
      "'Mon Nov 29 11:48:34 +0000 2021'\n",
      "'Mon Nov 29 11:48:26 +0000 2021'\n",
      "'Mon Nov 29 11:48:24 +0000 2021'\n",
      "'Mon Nov 29 11:46:12 +0000 2021'\n",
      "'Mon Nov 29 11:46:07 +0000 2021'\n",
      "'Mon Nov 29 11:43:55 +0000 2021'\n",
      "'Mon Nov 29 11:42:42 +0000 2021'\n",
      "'Mon Nov 29 11:40:00 +0000 2021'\n",
      "'Mon Nov 29 11:32:51 +0000 2021'\n",
      "'Mon Nov 29 11:32:50 +0000 2021'\n",
      "'Mon Nov 29 11:27:47 +0000 2021'\n",
      "'Mon Nov 29 11:23:20 +0000 2021'\n",
      "'Mon Nov 29 11:23:11 +0000 2021'\n",
      "'Mon Nov 29 11:21:42 +0000 2021'\n",
      "'Mon Nov 29 11:19:35 +0000 2021'\n",
      "'Mon Nov 29 11:15:53 +0000 2021'\n",
      "'Mon Nov 29 11:15:50 +0000 2021'\n",
      "'Mon Nov 29 11:13:37 +0000 2021'\n",
      "'Mon Nov 29 11:03:55 +0000 2021'\n",
      "'Mon Nov 29 11:02:03 +0000 2021'\n",
      "'Mon Nov 29 11:00:02 +0000 2021'\n",
      "'Mon Nov 29 11:00:01 +0000 2021'\n",
      "'Mon Nov 29 10:59:35 +0000 2021'\n",
      "'Mon Nov 29 10:57:01 +0000 2021'\n",
      "'Mon Nov 29 10:55:17 +0000 2021'\n",
      "'Mon Nov 29 10:55:00 +0000 2021'\n",
      "'Mon Nov 29 10:43:40 +0000 2021'\n",
      "'Mon Nov 29 10:39:05 +0000 2021'\n",
      "'Mon Nov 29 10:39:05 +0000 2021'\n",
      "'Mon Nov 29 10:36:58 +0000 2021'\n",
      "'Mon Nov 29 10:25:17 +0000 2021'\n",
      "'Mon Nov 29 10:12:25 +0000 2021'\n",
      "'Mon Nov 29 10:06:11 +0000 2021'\n",
      "'Mon Nov 29 10:03:02 +0000 2021'\n",
      "'Mon Nov 29 10:02:58 +0000 2021'\n",
      "'Mon Nov 29 10:01:05 +0000 2021'\n",
      "'Mon Nov 29 10:00:25 +0000 2021'\n",
      "'Mon Nov 29 09:48:28 +0000 2021'\n",
      "'Mon Nov 29 09:48:27 +0000 2021'\n"
     ]
    },
    {
     "name": "stdout",
     "output_type": "stream",
     "text": [
      "'Mon Nov 29 09:40:00 +0000 2021'\n"
     ]
    },
    {
     "ename": "KeyboardInterrupt",
     "evalue": "",
     "output_type": "error",
     "traceback": [
      "\u001b[0;31m---------------------------------------------------------------------------\u001b[0m",
      "\u001b[0;31mKeyboardInterrupt\u001b[0m                         Traceback (most recent call last)",
      "\u001b[0;32m<ipython-input-38-0ecae8b529d2>\u001b[0m in \u001b[0;36m<module>\u001b[0;34m\u001b[0m\n\u001b[1;32m      3\u001b[0m     \u001b[0msince_id_old\u001b[0m \u001b[0;34m=\u001b[0m \u001b[0msince_id_new\u001b[0m\u001b[0;34m\u001b[0m\u001b[0;34m\u001b[0m\u001b[0m\n\u001b[1;32m      4\u001b[0m     search_results = rest_api.search.tweets( count=count,q=q,\n\u001b[0;32m----> 5\u001b[0;31m                         geocode=geocode, max_id= since_id_new)\n\u001b[0m\u001b[1;32m      6\u001b[0m     \u001b[0mstatuses\u001b[0m \u001b[0;34m=\u001b[0m \u001b[0msearch_results\u001b[0m\u001b[0;34m[\u001b[0m\u001b[0;34m\"statuses\"\u001b[0m\u001b[0;34m]\u001b[0m\u001b[0;34m\u001b[0m\u001b[0;34m\u001b[0m\u001b[0m\n\u001b[1;32m      7\u001b[0m     \u001b[0msince_id_new\u001b[0m \u001b[0;34m=\u001b[0m \u001b[0mstatuses\u001b[0m\u001b[0;34m[\u001b[0m\u001b[0;34m-\u001b[0m\u001b[0;36m1\u001b[0m\u001b[0;34m]\u001b[0m\u001b[0;34m[\u001b[0m\u001b[0;34m'id'\u001b[0m\u001b[0;34m]\u001b[0m\u001b[0;34m\u001b[0m\u001b[0;34m\u001b[0m\u001b[0m\n",
      "\u001b[0;32m~/anaconda3/envs/python3/lib/python3.6/site-packages/twitter/api.py\u001b[0m in \u001b[0;36m__call__\u001b[0;34m(self, **kwargs)\u001b[0m\n\u001b[1;32m    362\u001b[0m             \u001b[0;32mreturn\u001b[0m \u001b[0mself\u001b[0m\u001b[0;34m.\u001b[0m\u001b[0m_handle_response_with_retry\u001b[0m\u001b[0;34m(\u001b[0m\u001b[0mreq\u001b[0m\u001b[0;34m,\u001b[0m \u001b[0muri\u001b[0m\u001b[0;34m,\u001b[0m \u001b[0marg_data\u001b[0m\u001b[0;34m,\u001b[0m \u001b[0m_timeout\u001b[0m\u001b[0;34m)\u001b[0m\u001b[0;34m\u001b[0m\u001b[0;34m\u001b[0m\u001b[0m\n\u001b[1;32m    363\u001b[0m         \u001b[0;32melse\u001b[0m\u001b[0;34m:\u001b[0m\u001b[0;34m\u001b[0m\u001b[0;34m\u001b[0m\u001b[0m\n\u001b[0;32m--> 364\u001b[0;31m             \u001b[0;32mreturn\u001b[0m \u001b[0mself\u001b[0m\u001b[0;34m.\u001b[0m\u001b[0m_handle_response\u001b[0m\u001b[0;34m(\u001b[0m\u001b[0mreq\u001b[0m\u001b[0;34m,\u001b[0m \u001b[0muri\u001b[0m\u001b[0;34m,\u001b[0m \u001b[0marg_data\u001b[0m\u001b[0;34m,\u001b[0m \u001b[0m_timeout\u001b[0m\u001b[0;34m)\u001b[0m\u001b[0;34m\u001b[0m\u001b[0;34m\u001b[0m\u001b[0m\n\u001b[0m\u001b[1;32m    365\u001b[0m \u001b[0;34m\u001b[0m\u001b[0m\n\u001b[1;32m    366\u001b[0m     \u001b[0;32mdef\u001b[0m \u001b[0m_handle_response\u001b[0m\u001b[0;34m(\u001b[0m\u001b[0mself\u001b[0m\u001b[0;34m,\u001b[0m \u001b[0mreq\u001b[0m\u001b[0;34m,\u001b[0m \u001b[0muri\u001b[0m\u001b[0;34m,\u001b[0m \u001b[0marg_data\u001b[0m\u001b[0;34m,\u001b[0m \u001b[0m_timeout\u001b[0m\u001b[0;34m=\u001b[0m\u001b[0;32mNone\u001b[0m\u001b[0;34m)\u001b[0m\u001b[0;34m:\u001b[0m\u001b[0;34m\u001b[0m\u001b[0;34m\u001b[0m\u001b[0m\n",
      "\u001b[0;32m~/anaconda3/envs/python3/lib/python3.6/site-packages/twitter/api.py\u001b[0m in \u001b[0;36m_handle_response\u001b[0;34m(self, req, uri, arg_data, _timeout)\u001b[0m\n\u001b[1;32m    377\u001b[0m                 \u001b[0;32mreturn\u001b[0m \u001b[0mhandle\u001b[0m\u001b[0;34m\u001b[0m\u001b[0;34m\u001b[0m\u001b[0m\n\u001b[1;32m    378\u001b[0m             \u001b[0;32mtry\u001b[0m\u001b[0;34m:\u001b[0m\u001b[0;34m\u001b[0m\u001b[0;34m\u001b[0m\u001b[0m\n\u001b[0;32m--> 379\u001b[0;31m                 \u001b[0mdata\u001b[0m \u001b[0;34m=\u001b[0m \u001b[0mhandle\u001b[0m\u001b[0;34m.\u001b[0m\u001b[0mread\u001b[0m\u001b[0;34m(\u001b[0m\u001b[0;34m)\u001b[0m\u001b[0;34m\u001b[0m\u001b[0;34m\u001b[0m\u001b[0m\n\u001b[0m\u001b[1;32m    380\u001b[0m             \u001b[0;32mexcept\u001b[0m \u001b[0mhttp_client\u001b[0m\u001b[0;34m.\u001b[0m\u001b[0mIncompleteRead\u001b[0m \u001b[0;32mas\u001b[0m \u001b[0me\u001b[0m\u001b[0;34m:\u001b[0m\u001b[0;34m\u001b[0m\u001b[0;34m\u001b[0m\u001b[0m\n\u001b[1;32m    381\u001b[0m                 \u001b[0;31m# Even if we don't get all the bytes we should have there\u001b[0m\u001b[0;34m\u001b[0m\u001b[0;34m\u001b[0m\u001b[0;34m\u001b[0m\u001b[0m\n",
      "\u001b[0;32m~/anaconda3/envs/python3/lib/python3.6/http/client.py\u001b[0m in \u001b[0;36mread\u001b[0;34m(self, amt)\u001b[0m\n\u001b[1;32m    474\u001b[0m             \u001b[0;32melse\u001b[0m\u001b[0;34m:\u001b[0m\u001b[0;34m\u001b[0m\u001b[0;34m\u001b[0m\u001b[0m\n\u001b[1;32m    475\u001b[0m                 \u001b[0;32mtry\u001b[0m\u001b[0;34m:\u001b[0m\u001b[0;34m\u001b[0m\u001b[0;34m\u001b[0m\u001b[0m\n\u001b[0;32m--> 476\u001b[0;31m                     \u001b[0ms\u001b[0m \u001b[0;34m=\u001b[0m \u001b[0mself\u001b[0m\u001b[0;34m.\u001b[0m\u001b[0m_safe_read\u001b[0m\u001b[0;34m(\u001b[0m\u001b[0mself\u001b[0m\u001b[0;34m.\u001b[0m\u001b[0mlength\u001b[0m\u001b[0;34m)\u001b[0m\u001b[0;34m\u001b[0m\u001b[0;34m\u001b[0m\u001b[0m\n\u001b[0m\u001b[1;32m    477\u001b[0m                 \u001b[0;32mexcept\u001b[0m \u001b[0mIncompleteRead\u001b[0m\u001b[0;34m:\u001b[0m\u001b[0;34m\u001b[0m\u001b[0;34m\u001b[0m\u001b[0m\n\u001b[1;32m    478\u001b[0m                     \u001b[0mself\u001b[0m\u001b[0;34m.\u001b[0m\u001b[0m_close_conn\u001b[0m\u001b[0;34m(\u001b[0m\u001b[0;34m)\u001b[0m\u001b[0;34m\u001b[0m\u001b[0;34m\u001b[0m\u001b[0m\n",
      "\u001b[0;32m~/anaconda3/envs/python3/lib/python3.6/http/client.py\u001b[0m in \u001b[0;36m_safe_read\u001b[0;34m(self, amt)\u001b[0m\n\u001b[1;32m    624\u001b[0m         \u001b[0ms\u001b[0m \u001b[0;34m=\u001b[0m \u001b[0;34m[\u001b[0m\u001b[0;34m]\u001b[0m\u001b[0;34m\u001b[0m\u001b[0;34m\u001b[0m\u001b[0m\n\u001b[1;32m    625\u001b[0m         \u001b[0;32mwhile\u001b[0m \u001b[0mamt\u001b[0m \u001b[0;34m>\u001b[0m \u001b[0;36m0\u001b[0m\u001b[0;34m:\u001b[0m\u001b[0;34m\u001b[0m\u001b[0;34m\u001b[0m\u001b[0m\n\u001b[0;32m--> 626\u001b[0;31m             \u001b[0mchunk\u001b[0m \u001b[0;34m=\u001b[0m \u001b[0mself\u001b[0m\u001b[0;34m.\u001b[0m\u001b[0mfp\u001b[0m\u001b[0;34m.\u001b[0m\u001b[0mread\u001b[0m\u001b[0;34m(\u001b[0m\u001b[0mmin\u001b[0m\u001b[0;34m(\u001b[0m\u001b[0mamt\u001b[0m\u001b[0;34m,\u001b[0m \u001b[0mMAXAMOUNT\u001b[0m\u001b[0;34m)\u001b[0m\u001b[0;34m)\u001b[0m\u001b[0;34m\u001b[0m\u001b[0;34m\u001b[0m\u001b[0m\n\u001b[0m\u001b[1;32m    627\u001b[0m             \u001b[0;32mif\u001b[0m \u001b[0;32mnot\u001b[0m \u001b[0mchunk\u001b[0m\u001b[0;34m:\u001b[0m\u001b[0;34m\u001b[0m\u001b[0;34m\u001b[0m\u001b[0m\n\u001b[1;32m    628\u001b[0m                 \u001b[0;32mraise\u001b[0m \u001b[0mIncompleteRead\u001b[0m\u001b[0;34m(\u001b[0m\u001b[0;34mb''\u001b[0m\u001b[0;34m.\u001b[0m\u001b[0mjoin\u001b[0m\u001b[0;34m(\u001b[0m\u001b[0ms\u001b[0m\u001b[0;34m)\u001b[0m\u001b[0;34m,\u001b[0m \u001b[0mamt\u001b[0m\u001b[0;34m)\u001b[0m\u001b[0;34m\u001b[0m\u001b[0;34m\u001b[0m\u001b[0m\n",
      "\u001b[0;32m~/anaconda3/envs/python3/lib/python3.6/socket.py\u001b[0m in \u001b[0;36mreadinto\u001b[0;34m(self, b)\u001b[0m\n\u001b[1;32m    584\u001b[0m         \u001b[0;32mwhile\u001b[0m \u001b[0;32mTrue\u001b[0m\u001b[0;34m:\u001b[0m\u001b[0;34m\u001b[0m\u001b[0;34m\u001b[0m\u001b[0m\n\u001b[1;32m    585\u001b[0m             \u001b[0;32mtry\u001b[0m\u001b[0;34m:\u001b[0m\u001b[0;34m\u001b[0m\u001b[0;34m\u001b[0m\u001b[0m\n\u001b[0;32m--> 586\u001b[0;31m                 \u001b[0;32mreturn\u001b[0m \u001b[0mself\u001b[0m\u001b[0;34m.\u001b[0m\u001b[0m_sock\u001b[0m\u001b[0;34m.\u001b[0m\u001b[0mrecv_into\u001b[0m\u001b[0;34m(\u001b[0m\u001b[0mb\u001b[0m\u001b[0;34m)\u001b[0m\u001b[0;34m\u001b[0m\u001b[0;34m\u001b[0m\u001b[0m\n\u001b[0m\u001b[1;32m    587\u001b[0m             \u001b[0;32mexcept\u001b[0m \u001b[0mtimeout\u001b[0m\u001b[0;34m:\u001b[0m\u001b[0;34m\u001b[0m\u001b[0;34m\u001b[0m\u001b[0m\n\u001b[1;32m    588\u001b[0m                 \u001b[0mself\u001b[0m\u001b[0;34m.\u001b[0m\u001b[0m_timeout_occurred\u001b[0m \u001b[0;34m=\u001b[0m \u001b[0;32mTrue\u001b[0m\u001b[0;34m\u001b[0m\u001b[0;34m\u001b[0m\u001b[0m\n",
      "\u001b[0;32m~/anaconda3/envs/python3/lib/python3.6/ssl.py\u001b[0m in \u001b[0;36mrecv_into\u001b[0;34m(self, buffer, nbytes, flags)\u001b[0m\n\u001b[1;32m   1010\u001b[0m                   \u001b[0;34m\"non-zero flags not allowed in calls to recv_into() on %s\"\u001b[0m \u001b[0;34m%\u001b[0m\u001b[0;34m\u001b[0m\u001b[0;34m\u001b[0m\u001b[0m\n\u001b[1;32m   1011\u001b[0m                   self.__class__)\n\u001b[0;32m-> 1012\u001b[0;31m             \u001b[0;32mreturn\u001b[0m \u001b[0mself\u001b[0m\u001b[0;34m.\u001b[0m\u001b[0mread\u001b[0m\u001b[0;34m(\u001b[0m\u001b[0mnbytes\u001b[0m\u001b[0;34m,\u001b[0m \u001b[0mbuffer\u001b[0m\u001b[0;34m)\u001b[0m\u001b[0;34m\u001b[0m\u001b[0;34m\u001b[0m\u001b[0m\n\u001b[0m\u001b[1;32m   1013\u001b[0m         \u001b[0;32melse\u001b[0m\u001b[0;34m:\u001b[0m\u001b[0;34m\u001b[0m\u001b[0;34m\u001b[0m\u001b[0m\n\u001b[1;32m   1014\u001b[0m             \u001b[0;32mreturn\u001b[0m \u001b[0msocket\u001b[0m\u001b[0;34m.\u001b[0m\u001b[0mrecv_into\u001b[0m\u001b[0;34m(\u001b[0m\u001b[0mself\u001b[0m\u001b[0;34m,\u001b[0m \u001b[0mbuffer\u001b[0m\u001b[0;34m,\u001b[0m \u001b[0mnbytes\u001b[0m\u001b[0;34m,\u001b[0m \u001b[0mflags\u001b[0m\u001b[0;34m)\u001b[0m\u001b[0;34m\u001b[0m\u001b[0;34m\u001b[0m\u001b[0m\n",
      "\u001b[0;32m~/anaconda3/envs/python3/lib/python3.6/ssl.py\u001b[0m in \u001b[0;36mread\u001b[0;34m(self, len, buffer)\u001b[0m\n\u001b[1;32m    872\u001b[0m             \u001b[0;32mraise\u001b[0m \u001b[0mValueError\u001b[0m\u001b[0;34m(\u001b[0m\u001b[0;34m\"Read on closed or unwrapped SSL socket.\"\u001b[0m\u001b[0;34m)\u001b[0m\u001b[0;34m\u001b[0m\u001b[0;34m\u001b[0m\u001b[0m\n\u001b[1;32m    873\u001b[0m         \u001b[0;32mtry\u001b[0m\u001b[0;34m:\u001b[0m\u001b[0;34m\u001b[0m\u001b[0;34m\u001b[0m\u001b[0m\n\u001b[0;32m--> 874\u001b[0;31m             \u001b[0;32mreturn\u001b[0m \u001b[0mself\u001b[0m\u001b[0;34m.\u001b[0m\u001b[0m_sslobj\u001b[0m\u001b[0;34m.\u001b[0m\u001b[0mread\u001b[0m\u001b[0;34m(\u001b[0m\u001b[0mlen\u001b[0m\u001b[0;34m,\u001b[0m \u001b[0mbuffer\u001b[0m\u001b[0;34m)\u001b[0m\u001b[0;34m\u001b[0m\u001b[0;34m\u001b[0m\u001b[0m\n\u001b[0m\u001b[1;32m    875\u001b[0m         \u001b[0;32mexcept\u001b[0m \u001b[0mSSLError\u001b[0m \u001b[0;32mas\u001b[0m \u001b[0mx\u001b[0m\u001b[0;34m:\u001b[0m\u001b[0;34m\u001b[0m\u001b[0;34m\u001b[0m\u001b[0m\n\u001b[1;32m    876\u001b[0m             \u001b[0;32mif\u001b[0m \u001b[0mx\u001b[0m\u001b[0;34m.\u001b[0m\u001b[0margs\u001b[0m\u001b[0;34m[\u001b[0m\u001b[0;36m0\u001b[0m\u001b[0;34m]\u001b[0m \u001b[0;34m==\u001b[0m \u001b[0mSSL_ERROR_EOF\u001b[0m \u001b[0;32mand\u001b[0m \u001b[0mself\u001b[0m\u001b[0;34m.\u001b[0m\u001b[0msuppress_ragged_eofs\u001b[0m\u001b[0;34m:\u001b[0m\u001b[0;34m\u001b[0m\u001b[0;34m\u001b[0m\u001b[0m\n",
      "\u001b[0;32m~/anaconda3/envs/python3/lib/python3.6/ssl.py\u001b[0m in \u001b[0;36mread\u001b[0;34m(self, len, buffer)\u001b[0m\n\u001b[1;32m    629\u001b[0m         \"\"\"\n\u001b[1;32m    630\u001b[0m         \u001b[0;32mif\u001b[0m \u001b[0mbuffer\u001b[0m \u001b[0;32mis\u001b[0m \u001b[0;32mnot\u001b[0m \u001b[0;32mNone\u001b[0m\u001b[0;34m:\u001b[0m\u001b[0;34m\u001b[0m\u001b[0;34m\u001b[0m\u001b[0m\n\u001b[0;32m--> 631\u001b[0;31m             \u001b[0mv\u001b[0m \u001b[0;34m=\u001b[0m \u001b[0mself\u001b[0m\u001b[0;34m.\u001b[0m\u001b[0m_sslobj\u001b[0m\u001b[0;34m.\u001b[0m\u001b[0mread\u001b[0m\u001b[0;34m(\u001b[0m\u001b[0mlen\u001b[0m\u001b[0;34m,\u001b[0m \u001b[0mbuffer\u001b[0m\u001b[0;34m)\u001b[0m\u001b[0;34m\u001b[0m\u001b[0;34m\u001b[0m\u001b[0m\n\u001b[0m\u001b[1;32m    632\u001b[0m         \u001b[0;32melse\u001b[0m\u001b[0;34m:\u001b[0m\u001b[0;34m\u001b[0m\u001b[0;34m\u001b[0m\u001b[0m\n\u001b[1;32m    633\u001b[0m             \u001b[0mv\u001b[0m \u001b[0;34m=\u001b[0m \u001b[0mself\u001b[0m\u001b[0;34m.\u001b[0m\u001b[0m_sslobj\u001b[0m\u001b[0;34m.\u001b[0m\u001b[0mread\u001b[0m\u001b[0;34m(\u001b[0m\u001b[0mlen\u001b[0m\u001b[0;34m)\u001b[0m\u001b[0;34m\u001b[0m\u001b[0;34m\u001b[0m\u001b[0m\n",
      "\u001b[0;31mKeyboardInterrupt\u001b[0m: "
     ]
    }
   ],
   "source": [
    "since_id_old = 0\n",
    "while(since_id_new != since_id_old):\n",
    "    since_id_old = since_id_new\n",
    "    search_results = rest_api.search.tweets( count=count,q=q,\n",
    "                        geocode=geocode, max_id= since_id_new)\n",
    "    statuses = search_results[\"statuses\"]\n",
    "    since_id_new = statuses[-1]['id']\n",
    "    for statuse in statuses:\n",
    "        try:\n",
    "            tweet_collection.insert_one(statuse)\n",
    "            pprint(statuse['created_at']) # print the date of the collected tweets\n",
    "        except:\n",
    "            pass"
   ]
  },
  {
   "cell_type": "markdown",
   "metadata": {},
   "source": [
    "## View the Collected Tweets"
   ]
  },
  {
   "cell_type": "markdown",
   "metadata": {},
   "source": [
    "Print the number of tweets and unique twitter users"
   ]
  },
  {
   "cell_type": "code",
   "execution_count": 39,
   "metadata": {},
   "outputs": [
    {
     "name": "stdout",
     "output_type": "stream",
     "text": [
      "4073\n",
      "2059\n"
     ]
    }
   ],
   "source": [
    "print(tweet_collection.estimated_document_count())# number of tweets collected\n",
    "\n",
    "user_cursor = tweet_collection.distinct(\"user.id\")\n",
    "print (len(user_cursor)) # number of unique Twitter users "
   ]
  },
  {
   "cell_type": "markdown",
   "metadata": {},
   "source": [
    "Create a text index and print the Tweets containing specific keywords. "
   ]
  },
  {
   "cell_type": "code",
   "execution_count": 40,
   "metadata": {
    "scrolled": false
   },
   "outputs": [
    {
     "data": {
      "text/plain": [
       "'text_index'"
      ]
     },
     "execution_count": 40,
     "metadata": {},
     "output_type": "execute_result"
    }
   ],
   "source": [
    "tweet_collection.create_index([(\"text\", pymongo.TEXT)], name='text_index', default_language='english') # create a text index\n"
   ]
  },
  {
   "cell_type": "markdown",
   "metadata": {},
   "source": [
    "Create a cursor to query tweets with the created index"
   ]
  },
  {
   "cell_type": "code",
   "execution_count": 41,
   "metadata": {},
   "outputs": [],
   "source": [
    "tweet_cursor = tweet_collection.find({\"$text\": {\"$search\": \"COVID\"}}) # return tweets contain vote"
   ]
  },
  {
   "cell_type": "markdown",
   "metadata": {},
   "source": [
    "Use pprint to display tweets"
   ]
  },
  {
   "cell_type": "code",
   "execution_count": 42,
   "metadata": {
    "scrolled": false
   },
   "outputs": [
    {
     "name": "stdout",
     "output_type": "stream",
     "text": [
      "----\n",
      "name: Iowa COVID-19 Tracker: Sara Anne Willette\n",
      "text: Iowa COVID+ Update: 11/29/2021\n",
      "\n",
      "Cumulative COVID+ Iowans: 522858\n",
      "Cumulative COVID+ Tests: 567074\n",
      "Cumulative COVID D… https://t.co/JyPgVdLQna\n",
      "----\n",
      "name: Iowa COVID-19 Tracker: Sara Anne Willette\n",
      "text: Iowa COVID+ Update: 11/30/2021\n",
      "\n",
      "Cumulative COVID+ Iowans: 525458\n",
      "Cumulative COVID+ Tests: 567074\n",
      "Cumulative COVID D… https://t.co/wtLlJu9cn8\n",
      "----\n",
      "name: Iowa COVID-19 Tracker: Sara Anne Willette\n",
      "text: Iowa COVID+ Update: 12/1/2021\n",
      "\n",
      "Cumulative COVID+ Iowans: 529383\n",
      "Cumulative COVID+ Tests: 570581\n",
      "Cumulative COVID De… https://t.co/T9txihcQfR\n",
      "----\n",
      "name: Nick Stalcup ✍️\n",
      "text: I’m tired of the Greek alphabet names for these COVID variants. Lmk when we get a Lil Covid or a Yung Covid.\n",
      "----\n",
      "name: Michael Foster\n",
      "text: Covid is covid what do we have to do to get rid of it Joe.\n",
      "----\n",
      "name: I See Stupid People\n",
      "text: PSA. Vaccines don't prevent Covid-19.  Vaccinated people can catch and spread Covid-19. Covid-19 is always going to… https://t.co/gE7SlWKB5b\n",
      "----\n",
      "name: Dr. Sean #Steelers #Pirates #Penguins\n",
      "text: @MySportsUpdate TJ Watt Groin and COVID\n",
      "Sutton COVID\n",
      "Minkah COVID\n",
      "Haden Foot\n",
      "Tuitt Knee\n",
      "Highsmith Groin \n",
      "Bush Groin… https://t.co/DLfH8xwikE\n",
      "----\n",
      "name: Charles Thomas Wild\n",
      "text: Lamb, Whose Christian TV Network Spread COVID Lies, Has Died of COVID - (12-01-2021)\n",
      "\n",
      "(Google - news items)\n",
      "\n",
      "COVID-… https://t.co/I296ov1unF\n",
      "----\n",
      "name: twin\n",
      "text: Covid trying to take me out so I don’t take covid out.\n",
      "----\n",
      "name: B\n",
      "text: So what's the difference between a PCR and Antigen Covid test? Let's see who knows... #COVID19 #Covid\n"
     ]
    }
   ],
   "source": [
    "\n",
    "for document in tweet_cursor[0:10]: # display the first 10 tweets from the query\n",
    "    try:\n",
    "        print ('----')\n",
    "#         pprint (document) # use pprint to print the entire tweet document\n",
    "   \n",
    "        print ('name:', document[\"user\"][\"name\"]) # user name\n",
    "        print ('text:', document[\"text\"])         # tweets\n",
    "    except:\n",
    "        print (\"***error in encoding\")\n",
    "        pass"
   ]
  },
  {
   "cell_type": "code",
   "execution_count": 24,
   "metadata": {},
   "outputs": [],
   "source": [
    "tweet_cursor = tweet_collection.find({\"$text\": {\"$search\": \"COVID\"}}) # return tweets contain vote"
   ]
  },
  {
   "cell_type": "markdown",
   "metadata": {},
   "source": [
    "Use pandas to display tweets"
   ]
  },
  {
   "cell_type": "code",
   "execution_count": 13,
   "metadata": {},
   "outputs": [
    {
     "data": {
      "text/html": [
       "<div>\n",
       "<style scoped>\n",
       "    .dataframe tbody tr th:only-of-type {\n",
       "        vertical-align: middle;\n",
       "    }\n",
       "\n",
       "    .dataframe tbody tr th {\n",
       "        vertical-align: top;\n",
       "    }\n",
       "\n",
       "    .dataframe thead th {\n",
       "        text-align: right;\n",
       "    }\n",
       "</style>\n",
       "<table border=\"1\" class=\"dataframe\">\n",
       "  <thead>\n",
       "    <tr style=\"text-align: right;\">\n",
       "      <th></th>\n",
       "      <th>_id</th>\n",
       "      <th>created_at</th>\n",
       "      <th>id</th>\n",
       "      <th>id_str</th>\n",
       "      <th>text</th>\n",
       "      <th>source</th>\n",
       "      <th>truncated</th>\n",
       "      <th>in_reply_to_status_id</th>\n",
       "      <th>in_reply_to_status_id_str</th>\n",
       "      <th>in_reply_to_user_id</th>\n",
       "      <th>...</th>\n",
       "      <th>lang</th>\n",
       "      <th>timestamp_ms</th>\n",
       "      <th>quoted_status_id</th>\n",
       "      <th>quoted_status_id_str</th>\n",
       "      <th>quoted_status</th>\n",
       "      <th>quoted_status_permalink</th>\n",
       "      <th>extended_tweet</th>\n",
       "      <th>possibly_sensitive</th>\n",
       "      <th>metadata</th>\n",
       "      <th>display_text_range</th>\n",
       "    </tr>\n",
       "  </thead>\n",
       "  <tbody>\n",
       "    <tr>\n",
       "      <th>0</th>\n",
       "      <td>5f9970e6ea281243abe9e85f</td>\n",
       "      <td>Wed Oct 28 13:23:45 +0000 2020</td>\n",
       "      <td>1321442530572066817</td>\n",
       "      <td>1321442530572066817</td>\n",
       "      <td>RT @Mia4MD: Early Voting is happening NOW in M...</td>\n",
       "      <td>&lt;a href=\"http://twitter.com/download/iphone\" r...</td>\n",
       "      <td>False</td>\n",
       "      <td>NaN</td>\n",
       "      <td>None</td>\n",
       "      <td>NaN</td>\n",
       "      <td>...</td>\n",
       "      <td>en</td>\n",
       "      <td>1603891425160</td>\n",
       "      <td>NaN</td>\n",
       "      <td>NaN</td>\n",
       "      <td>NaN</td>\n",
       "      <td>NaN</td>\n",
       "      <td>NaN</td>\n",
       "      <td>NaN</td>\n",
       "      <td>NaN</td>\n",
       "      <td>NaN</td>\n",
       "    </tr>\n",
       "    <tr>\n",
       "      <th>1</th>\n",
       "      <td>5f9970eaea281243abe9e8c9</td>\n",
       "      <td>Wed Oct 28 13:23:49 +0000 2020</td>\n",
       "      <td>1321442549718945792</td>\n",
       "      <td>1321442549718945792</td>\n",
       "      <td>RT @Amy_Siskind: TEXAS‼️ - an astounding 7.8 m...</td>\n",
       "      <td>&lt;a href=\"http://twitter.com/download/iphone\" r...</td>\n",
       "      <td>False</td>\n",
       "      <td>NaN</td>\n",
       "      <td>None</td>\n",
       "      <td>NaN</td>\n",
       "      <td>...</td>\n",
       "      <td>en</td>\n",
       "      <td>1603891429725</td>\n",
       "      <td>NaN</td>\n",
       "      <td>NaN</td>\n",
       "      <td>NaN</td>\n",
       "      <td>NaN</td>\n",
       "      <td>NaN</td>\n",
       "      <td>NaN</td>\n",
       "      <td>NaN</td>\n",
       "      <td>NaN</td>\n",
       "    </tr>\n",
       "    <tr>\n",
       "      <th>2</th>\n",
       "      <td>5f9970efea281243abe9e939</td>\n",
       "      <td>Wed Oct 28 13:23:54 +0000 2020</td>\n",
       "      <td>1321442568459198467</td>\n",
       "      <td>1321442568459198467</td>\n",
       "      <td>KEEP Pres: TRUMP\\nCHANGE Senate: GADE\\nHOPE Co...</td>\n",
       "      <td>&lt;a href=\"https://mobile.twitter.com\" rel=\"nofo...</td>\n",
       "      <td>True</td>\n",
       "      <td>NaN</td>\n",
       "      <td>None</td>\n",
       "      <td>NaN</td>\n",
       "      <td>...</td>\n",
       "      <td>en</td>\n",
       "      <td>1603891434193</td>\n",
       "      <td>1.321379e+18</td>\n",
       "      <td>1321378894327484416</td>\n",
       "      <td>{'created_at': 'Wed Oct 28 09:10:53 +0000 2020...</td>\n",
       "      <td>{'url': 'https://t.co/g07jyouj2s', 'expanded':...</td>\n",
       "      <td>{'full_text': 'KEEP Pres: TRUMP\n",
       "CHANGE Senate:...</td>\n",
       "      <td>NaN</td>\n",
       "      <td>NaN</td>\n",
       "      <td>NaN</td>\n",
       "    </tr>\n",
       "    <tr>\n",
       "      <th>3</th>\n",
       "      <td>5f997133ea281243abe9ea5a</td>\n",
       "      <td>Wed Oct 28 13:25:02 +0000 2020</td>\n",
       "      <td>1321442853244018690</td>\n",
       "      <td>1321442853244018690</td>\n",
       "      <td>#VOTE</td>\n",
       "      <td>&lt;a href=\"https://mobile.twitter.com\" rel=\"nofo...</td>\n",
       "      <td>False</td>\n",
       "      <td>NaN</td>\n",
       "      <td>None</td>\n",
       "      <td>NaN</td>\n",
       "      <td>...</td>\n",
       "      <td>und</td>\n",
       "      <td>1603891502091</td>\n",
       "      <td>1.321441e+18</td>\n",
       "      <td>1321440905098874882</td>\n",
       "      <td>{'created_at': 'Wed Oct 28 13:17:17 +0000 2020...</td>\n",
       "      <td>{'url': 'https://t.co/SiYtZzvyXq', 'expanded':...</td>\n",
       "      <td>NaN</td>\n",
       "      <td>NaN</td>\n",
       "      <td>NaN</td>\n",
       "      <td>NaN</td>\n",
       "    </tr>\n",
       "    <tr>\n",
       "      <th>4</th>\n",
       "      <td>5f9970e6ea281243abe9e868</td>\n",
       "      <td>Wed Oct 28 13:23:45 +0000 2020</td>\n",
       "      <td>1321442531532435457</td>\n",
       "      <td>1321442531532435457</td>\n",
       "      <td>#Vote</td>\n",
       "      <td>&lt;a href=\"http://twitter.com/download/iphone\" r...</td>\n",
       "      <td>False</td>\n",
       "      <td>NaN</td>\n",
       "      <td>None</td>\n",
       "      <td>NaN</td>\n",
       "      <td>...</td>\n",
       "      <td>und</td>\n",
       "      <td>1603891425389</td>\n",
       "      <td>1.321180e+18</td>\n",
       "      <td>1321179867052986368</td>\n",
       "      <td>{'created_at': 'Tue Oct 27 20:00:01 +0000 2020...</td>\n",
       "      <td>{'url': 'https://t.co/VhdpN9qfYf', 'expanded':...</td>\n",
       "      <td>NaN</td>\n",
       "      <td>NaN</td>\n",
       "      <td>NaN</td>\n",
       "      <td>NaN</td>\n",
       "    </tr>\n",
       "    <tr>\n",
       "      <th>5</th>\n",
       "      <td>5f9970f5ea281243abe9e9b4</td>\n",
       "      <td>Wed Oct 28 13:24:00 +0000 2020</td>\n",
       "      <td>1321442594174455809</td>\n",
       "      <td>1321442594174455809</td>\n",
       "      <td>RT @grantstern: Why is ⁦@MayorGimenez⁩ against...</td>\n",
       "      <td>&lt;a href=\"http://twitter.com/download/android\" ...</td>\n",
       "      <td>False</td>\n",
       "      <td>NaN</td>\n",
       "      <td>None</td>\n",
       "      <td>NaN</td>\n",
       "      <td>...</td>\n",
       "      <td>en</td>\n",
       "      <td>1603891440324</td>\n",
       "      <td>NaN</td>\n",
       "      <td>NaN</td>\n",
       "      <td>NaN</td>\n",
       "      <td>NaN</td>\n",
       "      <td>NaN</td>\n",
       "      <td>NaN</td>\n",
       "      <td>NaN</td>\n",
       "      <td>NaN</td>\n",
       "    </tr>\n",
       "    <tr>\n",
       "      <th>6</th>\n",
       "      <td>5f9970eaea281243abe9e8c6</td>\n",
       "      <td>Wed Oct 28 13:23:49 +0000 2020</td>\n",
       "      <td>1321442549379334144</td>\n",
       "      <td>1321442549379334144</td>\n",
       "      <td>RT @raquelmiranda89: Shelby County: you have t...</td>\n",
       "      <td>&lt;a href=\"http://twitter.com/download/iphone\" r...</td>\n",
       "      <td>False</td>\n",
       "      <td>NaN</td>\n",
       "      <td>None</td>\n",
       "      <td>NaN</td>\n",
       "      <td>...</td>\n",
       "      <td>en</td>\n",
       "      <td>1603891429644</td>\n",
       "      <td>1.316336e+18</td>\n",
       "      <td>1316335746702340097</td>\n",
       "      <td>{'created_at': 'Wed Oct 14 11:11:13 +0000 2020...</td>\n",
       "      <td>{'url': 'https://t.co/AbysBKfi2s', 'expanded':...</td>\n",
       "      <td>NaN</td>\n",
       "      <td>NaN</td>\n",
       "      <td>NaN</td>\n",
       "      <td>NaN</td>\n",
       "    </tr>\n",
       "    <tr>\n",
       "      <th>7</th>\n",
       "      <td>5f9970f9ea281243abe9ea15</td>\n",
       "      <td>Wed Oct 28 13:24:04 +0000 2020</td>\n",
       "      <td>1321442610347737088</td>\n",
       "      <td>1321442610347737088</td>\n",
       "      <td>I'm not voting until a celebrity tweets a pict...</td>\n",
       "      <td>&lt;a href=\"http://twitter.com/download/android\" ...</td>\n",
       "      <td>True</td>\n",
       "      <td>NaN</td>\n",
       "      <td>None</td>\n",
       "      <td>NaN</td>\n",
       "      <td>...</td>\n",
       "      <td>en</td>\n",
       "      <td>1603891444180</td>\n",
       "      <td>NaN</td>\n",
       "      <td>NaN</td>\n",
       "      <td>NaN</td>\n",
       "      <td>NaN</td>\n",
       "      <td>{'full_text': 'I'm not voting until a celebrit...</td>\n",
       "      <td>NaN</td>\n",
       "      <td>NaN</td>\n",
       "      <td>NaN</td>\n",
       "    </tr>\n",
       "    <tr>\n",
       "      <th>8</th>\n",
       "      <td>5f997133ea281243abe9ea5b</td>\n",
       "      <td>Wed Oct 28 13:25:02 +0000 2020</td>\n",
       "      <td>1321442853617164289</td>\n",
       "      <td>1321442853617164289</td>\n",
       "      <td>RT @kkjjPNW: You do not have to vote by mail i...</td>\n",
       "      <td>&lt;a href=\"http://twitter.com/download/iphone\" r...</td>\n",
       "      <td>False</td>\n",
       "      <td>NaN</td>\n",
       "      <td>None</td>\n",
       "      <td>NaN</td>\n",
       "      <td>...</td>\n",
       "      <td>en</td>\n",
       "      <td>1603891502180</td>\n",
       "      <td>NaN</td>\n",
       "      <td>NaN</td>\n",
       "      <td>NaN</td>\n",
       "      <td>NaN</td>\n",
       "      <td>NaN</td>\n",
       "      <td>False</td>\n",
       "      <td>NaN</td>\n",
       "      <td>NaN</td>\n",
       "    </tr>\n",
       "    <tr>\n",
       "      <th>9</th>\n",
       "      <td>5f9970faea281243abe9ea39</td>\n",
       "      <td>Wed Oct 28 13:24:05 +0000 2020</td>\n",
       "      <td>1321442617138286594</td>\n",
       "      <td>1321442617138286594</td>\n",
       "      <td>RT @Carnage4Life: It’s easier for a white pers...</td>\n",
       "      <td>&lt;a href=\"http://twitter.com/download/iphone\" r...</td>\n",
       "      <td>False</td>\n",
       "      <td>NaN</td>\n",
       "      <td>None</td>\n",
       "      <td>NaN</td>\n",
       "      <td>...</td>\n",
       "      <td>en</td>\n",
       "      <td>1603891445799</td>\n",
       "      <td>1.320028e+18</td>\n",
       "      <td>1320027534789140480</td>\n",
       "      <td>{'created_at': 'Sat Oct 24 15:41:03 +0000 2020...</td>\n",
       "      <td>{'url': 'https://t.co/8u0q776vmb', 'expanded':...</td>\n",
       "      <td>NaN</td>\n",
       "      <td>NaN</td>\n",
       "      <td>NaN</td>\n",
       "      <td>NaN</td>\n",
       "    </tr>\n",
       "  </tbody>\n",
       "</table>\n",
       "<p>10 rows × 37 columns</p>\n",
       "</div>"
      ],
      "text/plain": [
       "                        _id                      created_at  \\\n",
       "0  5f9970e6ea281243abe9e85f  Wed Oct 28 13:23:45 +0000 2020   \n",
       "1  5f9970eaea281243abe9e8c9  Wed Oct 28 13:23:49 +0000 2020   \n",
       "2  5f9970efea281243abe9e939  Wed Oct 28 13:23:54 +0000 2020   \n",
       "3  5f997133ea281243abe9ea5a  Wed Oct 28 13:25:02 +0000 2020   \n",
       "4  5f9970e6ea281243abe9e868  Wed Oct 28 13:23:45 +0000 2020   \n",
       "5  5f9970f5ea281243abe9e9b4  Wed Oct 28 13:24:00 +0000 2020   \n",
       "6  5f9970eaea281243abe9e8c6  Wed Oct 28 13:23:49 +0000 2020   \n",
       "7  5f9970f9ea281243abe9ea15  Wed Oct 28 13:24:04 +0000 2020   \n",
       "8  5f997133ea281243abe9ea5b  Wed Oct 28 13:25:02 +0000 2020   \n",
       "9  5f9970faea281243abe9ea39  Wed Oct 28 13:24:05 +0000 2020   \n",
       "\n",
       "                    id               id_str  \\\n",
       "0  1321442530572066817  1321442530572066817   \n",
       "1  1321442549718945792  1321442549718945792   \n",
       "2  1321442568459198467  1321442568459198467   \n",
       "3  1321442853244018690  1321442853244018690   \n",
       "4  1321442531532435457  1321442531532435457   \n",
       "5  1321442594174455809  1321442594174455809   \n",
       "6  1321442549379334144  1321442549379334144   \n",
       "7  1321442610347737088  1321442610347737088   \n",
       "8  1321442853617164289  1321442853617164289   \n",
       "9  1321442617138286594  1321442617138286594   \n",
       "\n",
       "                                                text  \\\n",
       "0  RT @Mia4MD: Early Voting is happening NOW in M...   \n",
       "1  RT @Amy_Siskind: TEXAS‼️ - an astounding 7.8 m...   \n",
       "2  KEEP Pres: TRUMP\\nCHANGE Senate: GADE\\nHOPE Co...   \n",
       "3                                              #VOTE   \n",
       "4                                              #Vote   \n",
       "5  RT @grantstern: Why is ⁦@MayorGimenez⁩ against...   \n",
       "6  RT @raquelmiranda89: Shelby County: you have t...   \n",
       "7  I'm not voting until a celebrity tweets a pict...   \n",
       "8  RT @kkjjPNW: You do not have to vote by mail i...   \n",
       "9  RT @Carnage4Life: It’s easier for a white pers...   \n",
       "\n",
       "                                              source  truncated  \\\n",
       "0  <a href=\"http://twitter.com/download/iphone\" r...      False   \n",
       "1  <a href=\"http://twitter.com/download/iphone\" r...      False   \n",
       "2  <a href=\"https://mobile.twitter.com\" rel=\"nofo...       True   \n",
       "3  <a href=\"https://mobile.twitter.com\" rel=\"nofo...      False   \n",
       "4  <a href=\"http://twitter.com/download/iphone\" r...      False   \n",
       "5  <a href=\"http://twitter.com/download/android\" ...      False   \n",
       "6  <a href=\"http://twitter.com/download/iphone\" r...      False   \n",
       "7  <a href=\"http://twitter.com/download/android\" ...       True   \n",
       "8  <a href=\"http://twitter.com/download/iphone\" r...      False   \n",
       "9  <a href=\"http://twitter.com/download/iphone\" r...      False   \n",
       "\n",
       "   in_reply_to_status_id in_reply_to_status_id_str  in_reply_to_user_id  ...  \\\n",
       "0                    NaN                      None                  NaN  ...   \n",
       "1                    NaN                      None                  NaN  ...   \n",
       "2                    NaN                      None                  NaN  ...   \n",
       "3                    NaN                      None                  NaN  ...   \n",
       "4                    NaN                      None                  NaN  ...   \n",
       "5                    NaN                      None                  NaN  ...   \n",
       "6                    NaN                      None                  NaN  ...   \n",
       "7                    NaN                      None                  NaN  ...   \n",
       "8                    NaN                      None                  NaN  ...   \n",
       "9                    NaN                      None                  NaN  ...   \n",
       "\n",
       "  lang   timestamp_ms quoted_status_id quoted_status_id_str  \\\n",
       "0   en  1603891425160              NaN                  NaN   \n",
       "1   en  1603891429725              NaN                  NaN   \n",
       "2   en  1603891434193     1.321379e+18  1321378894327484416   \n",
       "3  und  1603891502091     1.321441e+18  1321440905098874882   \n",
       "4  und  1603891425389     1.321180e+18  1321179867052986368   \n",
       "5   en  1603891440324              NaN                  NaN   \n",
       "6   en  1603891429644     1.316336e+18  1316335746702340097   \n",
       "7   en  1603891444180              NaN                  NaN   \n",
       "8   en  1603891502180              NaN                  NaN   \n",
       "9   en  1603891445799     1.320028e+18  1320027534789140480   \n",
       "\n",
       "                                       quoted_status  \\\n",
       "0                                                NaN   \n",
       "1                                                NaN   \n",
       "2  {'created_at': 'Wed Oct 28 09:10:53 +0000 2020...   \n",
       "3  {'created_at': 'Wed Oct 28 13:17:17 +0000 2020...   \n",
       "4  {'created_at': 'Tue Oct 27 20:00:01 +0000 2020...   \n",
       "5                                                NaN   \n",
       "6  {'created_at': 'Wed Oct 14 11:11:13 +0000 2020...   \n",
       "7                                                NaN   \n",
       "8                                                NaN   \n",
       "9  {'created_at': 'Sat Oct 24 15:41:03 +0000 2020...   \n",
       "\n",
       "                             quoted_status_permalink  \\\n",
       "0                                                NaN   \n",
       "1                                                NaN   \n",
       "2  {'url': 'https://t.co/g07jyouj2s', 'expanded':...   \n",
       "3  {'url': 'https://t.co/SiYtZzvyXq', 'expanded':...   \n",
       "4  {'url': 'https://t.co/VhdpN9qfYf', 'expanded':...   \n",
       "5                                                NaN   \n",
       "6  {'url': 'https://t.co/AbysBKfi2s', 'expanded':...   \n",
       "7                                                NaN   \n",
       "8                                                NaN   \n",
       "9  {'url': 'https://t.co/8u0q776vmb', 'expanded':...   \n",
       "\n",
       "                                      extended_tweet possibly_sensitive  \\\n",
       "0                                                NaN                NaN   \n",
       "1                                                NaN                NaN   \n",
       "2  {'full_text': 'KEEP Pres: TRUMP\n",
       "CHANGE Senate:...                NaN   \n",
       "3                                                NaN                NaN   \n",
       "4                                                NaN                NaN   \n",
       "5                                                NaN                NaN   \n",
       "6                                                NaN                NaN   \n",
       "7  {'full_text': 'I'm not voting until a celebrit...                NaN   \n",
       "8                                                NaN              False   \n",
       "9                                                NaN                NaN   \n",
       "\n",
       "   metadata  display_text_range  \n",
       "0       NaN                 NaN  \n",
       "1       NaN                 NaN  \n",
       "2       NaN                 NaN  \n",
       "3       NaN                 NaN  \n",
       "4       NaN                 NaN  \n",
       "5       NaN                 NaN  \n",
       "6       NaN                 NaN  \n",
       "7       NaN                 NaN  \n",
       "8       NaN                 NaN  \n",
       "9       NaN                 NaN  \n",
       "\n",
       "[10 rows x 37 columns]"
      ]
     },
     "execution_count": 13,
     "metadata": {},
     "output_type": "execute_result"
    }
   ],
   "source": [
    "tweet_df = pd.DataFrame(list(tweet_cursor ))\n",
    "tweet_df[:10] #display the first 10 tweets"
   ]
  },
  {
   "cell_type": "code",
   "execution_count": 14,
   "metadata": {},
   "outputs": [
    {
     "data": {
      "text/plain": [
       "<matplotlib.axes._subplots.AxesSubplot at 0x7fca39a57be0>"
      ]
     },
     "execution_count": 14,
     "metadata": {},
     "output_type": "execute_result"
    },
    {
     "data": {
      "image/png": "[encoded data removed]",
      "text/plain": [
       "<Figure size 432x288 with 1 Axes>"
      ]
     },
     "metadata": {
      "needs_background": "light"
     },
     "output_type": "display_data"
    }
   ],
   "source": [
    "tweet_df[\"favorite_count\"].hist() # create a histogram show the favorite count"
   ]
  },
  {
   "cell_type": "code",
   "execution_count": null,
   "metadata": {},
   "outputs": [],
   "source": []
  }
 ],
 "metadata": {
  "kernelspec": {
   "display_name": "conda_python3",
   "language": "python",
   "name": "conda_python3"
  },
  "language_info": {
   "codemirror_mode": {
    "name": "ipython",
    "version": 3
   },
   "file_extension": ".py",
   "mimetype": "text/x-python",
   "name": "python",
   "nbconvert_exporter": "python",
   "pygments_lexer": "ipython3",
   "version": "3.6.13"
  }
 },
 "nbformat": 4,
 "nbformat_minor": 2
}
